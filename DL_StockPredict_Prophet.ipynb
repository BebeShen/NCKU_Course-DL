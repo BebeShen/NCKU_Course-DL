{
  "cells": [
    {
      "cell_type": "markdown",
      "metadata": {
        "colab_type": "text",
        "id": "view-in-github"
      },
      "source": [
        "<a href=\"https://colab.research.google.com/github/BebeShen/NCKU_DL/blob/main/DL_StockPredict_Prophet.ipynb\" target=\"_parent\"><img src=\"https://colab.research.google.com/assets/colab-badge.svg\" alt=\"Open In Colab\"/></a>"
      ]
    },
    {
      "cell_type": "markdown",
      "metadata": {
        "id": "Dm1U2zmENBKs"
      },
      "source": [
        "# 認識Prophet\n",
        "\n",
        "Prophet 是一個由 Facebook Core Data Science Team 發表的開源代碼庫，用於時間序列預測，基於 Python 和 R 語言。\n"
      ]
    },
    {
      "cell_type": "markdown",
      "metadata": {
        "id": "QcXBgtmZNKrt"
      },
      "source": [
        "## 安裝Prophet\n",
        "\n",
        "`!`是為了讓colab執行如同terminal執行如同terminal"
      ]
    },
    {
      "cell_type": "code",
      "execution_count": null,
      "metadata": {
        "id": "jJR6htBcMfLA"
      },
      "outputs": [],
      "source": [
        "!pip install quandl matplotlib numpy fbprophet pystan pandas pytrends"
      ]
    },
    {
      "cell_type": "markdown",
      "metadata": {
        "id": "SfBYpCXANAJ3"
      },
      "source": [
        "## 讀取股票資訊\n"
      ]
    },
    {
      "cell_type": "code",
      "execution_count": null,
      "metadata": {
        "id": "TFA1oPLMOFM_"
      },
      "outputs": [],
      "source": [
        "import pandas as pd\n",
        "\n",
        "### 讀取資訊並存入series\n",
        "\n",
        "df = pd.read_csv('price.csv', index_col='date', parse_dates=['date'])\n",
        "\n",
        "# squeeze -> 將 df 轉成series\n",
        "price = df.squeeze()\n",
        "price.head()"
      ]
    },
    {
      "cell_type": "markdown",
      "metadata": {
        "id": "3hCp4xSZOfv0"
      },
      "source": [
        "## 創建Stock\n",
        "\n"
      ]
    },
    {
      "cell_type": "code",
      "execution_count": null,
      "metadata": {
        "id": "CV3xoxfgO0PU"
      },
      "outputs": [],
      "source": [
        "from Stocker.stocker import Stocker"
      ]
    }
  ],
  "metadata": {
    "colab": {
      "authorship_tag": "ABX9TyNt4pTyhUpEUlfDyetHhFq6",
      "include_colab_link": true,
      "name": "DL_StockPredict_Prophet.ipynb",
      "provenance": []
    },
    "kernelspec": {
      "display_name": "Python 3",
      "name": "python3"
    },
    "language_info": {
      "codemirror_mode": {
        "name": "ipython",
        "version": 3
      },
      "file_extension": ".py",
      "mimetype": "text/x-python",
      "name": "python",
      "nbconvert_exporter": "python",
      "pygments_lexer": "ipython3",
      "version": "3.9.1"
    }
  },
  "nbformat": 4,
  "nbformat_minor": 0
}
