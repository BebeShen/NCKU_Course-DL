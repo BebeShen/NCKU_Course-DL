{
  "nbformat": 4,
  "nbformat_minor": 0,
  "metadata": {
    "colab": {
      "name": "DL_StockPredict_Prophet.ipynb",
      "provenance": [],
      "authorship_tag": "ABX9TyNt4pTyhUpEUlfDyetHhFq6",
      "include_colab_link": true
    },
    "kernelspec": {
      "name": "python3",
      "display_name": "Python 3"
    },
    "language_info": {
      "name": "python"
    }
  },
  "cells": [
    {
      "cell_type": "markdown",
      "metadata": {
        "id": "view-in-github",
        "colab_type": "text"
      },
      "source": [
        "<a href=\"https://colab.research.google.com/github/BebeShen/NCKU_DL/blob/main/DL_StockPredict_Prophet.ipynb\" target=\"_parent\"><img src=\"https://colab.research.google.com/assets/colab-badge.svg\" alt=\"Open In Colab\"/></a>"
      ]
    },
    {
      "cell_type": "markdown",
      "source": [
        "# 認識Prophet\n",
        "\n",
        "Prophet 是一個由 Facebook Core Data Science Team 發表的開源代碼庫，用於時間序列預測，基於 Python 和 R 語言。\n"
      ],
      "metadata": {
        "id": "Dm1U2zmENBKs"
      }
    },
    {
      "cell_type": "markdown",
      "source": [
        "## 安裝Prophet\n",
        "\n",
        "`!`是為了讓colab執行如同terminal執行如同terminal"
      ],
      "metadata": {
        "id": "QcXBgtmZNKrt"
      }
    },
    {
      "cell_type": "code",
      "execution_count": null,
      "metadata": {
        "id": "jJR6htBcMfLA"
      },
      "outputs": [],
      "source": [
        "!pip install quandl matplotlib numpy fbprophet pystan pandas pytrends"
      ]
    },
    {
      "cell_type": "markdown",
      "source": [
        "## 讀取股票資訊\n"
      ],
      "metadata": {
        "id": "SfBYpCXANAJ3"
      }
    },
    {
      "cell_type": "code",
      "source": [
        "import pandas as pd\n",
        "\n",
        "### 讀取資訊並存入series\n",
        "\n",
        "df = pd.read_csv('price.csv', index_col='date', parse_dates=['date'])\n",
        "\n",
        "# squeeze -> 將 df 轉成series\n",
        "price = df.squeeze()\n",
        "price.head()"
      ],
      "metadata": {
        "id": "TFA1oPLMOFM_"
      },
      "execution_count": null,
      "outputs": []
    },
    {
      "cell_type": "markdown",
      "source": [
        "## 創建Stock\n",
        "\n"
      ],
      "metadata": {
        "id": "3hCp4xSZOfv0"
      }
    },
    {
      "cell_type": "code",
      "source": [
        "from Stocker.stocker import Stocker"
      ],
      "metadata": {
        "id": "CV3xoxfgO0PU"
      },
      "execution_count": null,
      "outputs": []
    }
  ]
}